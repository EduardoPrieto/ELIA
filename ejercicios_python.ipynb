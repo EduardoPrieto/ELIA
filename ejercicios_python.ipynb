{
  "nbformat": 4,
  "nbformat_minor": 0,
  "metadata": {
    "colab": {
      "name": "ejercicios_python.ipynb",
      "provenance": [],
      "authorship_tag": "ABX9TyMOxXHYaxcmbgBNQp75g8ir",
      "include_colab_link": true
    },
    "kernelspec": {
      "name": "python3",
      "display_name": "Python 3"
    },
    "language_info": {
      "name": "python"
    }
  },
  "cells": [
    {
      "cell_type": "markdown",
      "metadata": {
        "id": "view-in-github",
        "colab_type": "text"
      },
      "source": [
        "<a href=\"https://colab.research.google.com/github/EduardoPrieto/ELIA/blob/master/ejercicios_python.ipynb\" target=\"_parent\"><img src=\"https://colab.research.google.com/assets/colab-badge.svg\" alt=\"Open In Colab\"/></a>"
      ]
    },
    {
      "cell_type": "markdown",
      "source": [
        "###Ejercicio 1\n",
        "Escribir un programa que pregunte al usuario su edad y muestre por pantalla si es mayor de edad o no.\n",
        "\n",
        "\n"
      ],
      "metadata": {
        "id": "-2Acav3LQS2T"
      }
    },
    {
      "cell_type": "code",
      "execution_count": 5,
      "metadata": {
        "colab": {
          "base_uri": "https://localhost:8080/"
        },
        "id": "H9n3ACcjQO2v",
        "outputId": "c1ecff04-6823-465e-97b3-71347cd27169"
      },
      "outputs": [
        {
          "output_type": "stream",
          "name": "stdout",
          "text": [
            "Cual es tu edad?18\n",
            "1\n",
            "2\n",
            "3\n",
            "4\n",
            "5\n",
            "6\n",
            "7\n",
            "8\n",
            "9\n",
            "10\n",
            "11\n",
            "12\n",
            "13\n",
            "14\n",
            "15\n",
            "16\n",
            "17\n",
            "18\n"
          ]
        }
      ],
      "source": [
        "age = int(input('Cual es tu edad?'))\n",
        "a = 0\n",
        "while(a != age):\n",
        "  a += 1\n",
        "  print(a)\n"
      ]
    },
    {
      "cell_type": "markdown",
      "source": [
        "Escribir un programa que almacene la cadena de caracteres contraseña en una variable, pregunte al usuario por la contraseña hasta que introduzca la contraseña correcta."
      ],
      "metadata": {
        "id": "a00JO59xcfPn"
      }
    },
    {
      "cell_type": "code",
      "source": [
        "password = 'sultansito'\n",
        "password_user = ''\n",
        "while(password != password_user):\n",
        "  password_user = input('cual es la contraseña?')\n",
        "print('** felicidades es la contraseña correcta **')"
      ],
      "metadata": {
        "colab": {
          "base_uri": "https://localhost:8080/"
        },
        "id": "0M1Vanb0chrP",
        "outputId": "3b52ba79-b613-4b78-f99c-26412cd14858"
      },
      "execution_count": 7,
      "outputs": [
        {
          "output_type": "stream",
          "name": "stdout",
          "text": [
            "cual es la contraseña?sultancito\n",
            "cual es la contraseña?sultansito\n",
            "** felicidades es la contraseña correcta **\n"
          ]
        }
      ]
    },
    {
      "cell_type": "code",
      "source": [
        ""
      ],
      "metadata": {
        "id": "l2EzabetdDnX"
      },
      "execution_count": null,
      "outputs": []
    }
  ]
}