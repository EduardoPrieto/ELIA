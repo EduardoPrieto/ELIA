{
  "nbformat": 4,
  "nbformat_minor": 0,
  "metadata": {
    "colab": {
      "name": "clase 1.ipynb",
      "provenance": [],
      "collapsed_sections": [],
      "toc_visible": true
    },
    "kernelspec": {
      "name": "python3",
      "display_name": "Python 3"
    }
  },
  "cells": [
    {
      "cell_type": "markdown",
      "metadata": {
        "id": "SkV8zf4d6ulr",
        "colab_type": "text"
      },
      "source": [
        "#¿Qué es una lista?#\n",
        "\n",
        "### Una lista es una estructura de datos y un tipo de dato en python con características especiales. Lo especial de las listas en Python es que nos permiten almacenar cualquier tipo de valor como enteros, cadenas y hasta otras funciones; por ejemplo: ###\n"
      ]
    },
    {
      "cell_type": "code",
      "metadata": {
        "id": "mOOxk06gof7I",
        "colab_type": "code",
        "colab": {}
      },
      "source": [
        "lista = []"
      ],
      "execution_count": 31,
      "outputs": []
    },
    {
      "cell_type": "code",
      "metadata": {
        "id": "yc2MPHlZ7GnE",
        "colab_type": "code",
        "colab": {}
      },
      "source": [
        "lista = [1, 2.5, 'AI', [5,6] ,4]\n"
      ],
      "execution_count": null,
      "outputs": []
    },
    {
      "cell_type": "code",
      "metadata": {
        "id": "NYmP8AMidgOM",
        "colab_type": "code",
        "colab": {
          "base_uri": "https://localhost:8080/",
          "height": 34
        },
        "outputId": "03e15d4a-972e-46a4-b677-661212580537"
      },
      "source": [
        "print(lista)"
      ],
      "execution_count": null,
      "outputs": [
        {
          "output_type": "stream",
          "text": [
            "[1, 2.5, 'AI', [5, 6], 4]\n"
          ],
          "name": "stdout"
        }
      ]
    },
    {
      "cell_type": "code",
      "metadata": {
        "id": "EXTxoNEb9dx0",
        "colab_type": "code",
        "colab": {
          "base_uri": "https://localhost:8080/"
        },
        "outputId": "45c12b73-a77d-43f8-8780-431721fc8b64"
      },
      "source": [
        "# Imprime el elemento en la pocisión 2\n",
        "# Recordar que los elementos en una lista arrancan en 0\n",
        "## Por lo que las posiciones en una lista de 3 elementos es [0, 1 , 2]\n",
        "print (lista[2])\n"
      ],
      "execution_count": null,
      "outputs": [
        {
          "output_type": "stream",
          "text": [
            "AI\n"
          ],
          "name": "stdout"
        }
      ]
    },
    {
      "cell_type": "code",
      "metadata": {
        "id": "oWvktIMn9fwR",
        "colab_type": "code",
        "colab": {
          "base_uri": "https://localhost:8080/"
        },
        "outputId": "2733d3f3-a415-41e1-a34e-09b090b4cfdd"
      },
      "source": [
        "#Cuenta La cantidad de elementos en una lista \n",
        "print(len(lista))"
      ],
      "execution_count": null,
      "outputs": [
        {
          "output_type": "stream",
          "text": [
            "5\n"
          ],
          "name": "stdout"
        }
      ]
    },
    {
      "cell_type": "code",
      "metadata": {
        "id": "kQGzYU-t9hrR",
        "colab_type": "code",
        "colab": {
          "base_uri": "https://localhost:8080/"
        },
        "outputId": "4f9694ae-85fa-4590-d2e0-fd29a76a9a15"
      },
      "source": [
        "# Itera por los elelmentos de una lista y los imprime\n",
        "for elements in lista:\n",
        "  print (elements)"
      ],
      "execution_count": null,
      "outputs": [
        {
          "output_type": "stream",
          "text": [
            "1\n",
            "2.5\n",
            "AI\n",
            "[5, 6]\n",
            "4\n"
          ],
          "name": "stdout"
        }
      ]
    },
    {
      "cell_type": "markdown",
      "metadata": {
        "id": "sA8NReuP-XlT",
        "colab_type": "text"
      },
      "source": [
        "##Métodos de una lista#\n",
        "\n",
        "*   Append()\n",
        "*   Extend()\n",
        "*   Remove()\n",
        "\n",
        "\n",
        "\n"
      ]
    },
    {
      "cell_type": "code",
      "metadata": {
        "id": "UKyc5h_49kte",
        "colab_type": "code",
        "colab": {}
      },
      "source": [
        "# Método que permite agregar un dato a la lista\n",
        "lista.append([23, 4])"
      ],
      "execution_count": null,
      "outputs": []
    },
    {
      "cell_type": "code",
      "metadata": {
        "id": "_q5MojS8eOi3",
        "colab_type": "code",
        "colab": {
          "base_uri": "https://localhost:8080/",
          "height": 34
        },
        "outputId": "abdabfc2-c859-453d-bf26-26f4e5341288"
      },
      "source": [
        "lista"
      ],
      "execution_count": null,
      "outputs": [
        {
          "output_type": "execute_result",
          "data": {
            "text/plain": [
              "[1, 2.5, 'AI', [5, 6], 4, 23, [23, 4]]"
            ]
          },
          "metadata": {
            "tags": []
          },
          "execution_count": 7
        }
      ]
    },
    {
      "cell_type": "code",
      "metadata": {
        "id": "wjED1GnzZeMX",
        "colab_type": "code",
        "colab": {}
      },
      "source": [
        "# Método que tambien permite agregar un dato a la lista\n",
        "lista.extend([5,6])"
      ],
      "execution_count": null,
      "outputs": []
    },
    {
      "cell_type": "code",
      "metadata": {
        "id": "99K1PCk4eY58",
        "colab_type": "code",
        "colab": {
          "base_uri": "https://localhost:8080/",
          "height": 34
        },
        "outputId": "64412392-5c47-4c8a-f870-81964f3f7144"
      },
      "source": [
        "lista"
      ],
      "execution_count": null,
      "outputs": [
        {
          "output_type": "execute_result",
          "data": {
            "text/plain": [
              "[1, 2.5, 'AI', [5, 6], 4, 23, [23, 4], 5, 6]"
            ]
          },
          "metadata": {
            "tags": []
          },
          "execution_count": 9
        }
      ]
    },
    {
      "cell_type": "markdown",
      "metadata": {
        "id": "JAnrQ4bobyfu",
        "colab_type": "text"
      },
      "source": [
        "### Append vs Extend ##\n",
        "#### la diferencia es que cuando ingresas una lista, el método append lo ingresa como una lista mientras que extend ingresa los datos 1 por 1####"
      ]
    },
    {
      "cell_type": "code",
      "metadata": {
        "id": "kpkdpuj-Zu4-",
        "colab_type": "code",
        "colab": {}
      },
      "source": [
        "#Elimina un elemento seleccionado de la lista\n",
        "lista.remove(2.5)\n"
      ],
      "execution_count": null,
      "outputs": []
    },
    {
      "cell_type": "code",
      "metadata": {
        "id": "rs8ZE0o-efcn",
        "colab_type": "code",
        "colab": {
          "base_uri": "https://localhost:8080/",
          "height": 34
        },
        "outputId": "eff2b8d6-3929-43bc-fae7-3a5c04f0c0d1"
      },
      "source": [
        "lista"
      ],
      "execution_count": null,
      "outputs": [
        {
          "output_type": "execute_result",
          "data": {
            "text/plain": [
              "[1, 'AI', [5, 6], 4, 23, [23, 4], 5]"
            ]
          },
          "metadata": {
            "tags": []
          },
          "execution_count": 13
        }
      ]
    },
    {
      "cell_type": "markdown",
      "metadata": {
        "id": "nygsLwyw1umd",
        "colab_type": "text"
      },
      "source": [
        "# Conjuntos\n",
        "Un conjunto es una colección no ordenada de objetos único ampliamente utilizados en lógica y matemática"
      ]
    },
    {
      "cell_type": "code",
      "metadata": {
        "id": "kS1CP-mx2DFC",
        "colab_type": "code",
        "colab": {}
      },
      "source": [
        "# los conjuntos no se inicializan con c = {}, puesto que esto crearia un diccionario\n",
        "conjunto = set()"
      ],
      "execution_count": 32,
      "outputs": []
    },
    {
      "cell_type": "code",
      "metadata": {
        "id": "52Cc38y72Yq0",
        "colab_type": "code",
        "colab": {
          "base_uri": "https://localhost:8080/",
          "height": 34
        },
        "outputId": "62ec52c6-f343-4544-9814-d5165a7bc5eb"
      },
      "source": [
        "conjunto = {1, 3.4, 'hola'}\n",
        "print(conjunto)\n"
      ],
      "execution_count": 46,
      "outputs": [
        {
          "output_type": "stream",
          "text": [
            "{1, 3.4, 'hola'}\n"
          ],
          "name": "stdout"
        }
      ]
    },
    {
      "cell_type": "code",
      "metadata": {
        "id": "B1NF0Sc_2nQ3",
        "colab_type": "code",
        "colab": {
          "base_uri": "https://localhost:8080/",
          "height": 51
        },
        "outputId": "705f18fb-09db-4460-cb11-dac0a7259134"
      },
      "source": [
        "print(list(conjunto))#un conjunto se puede convertir en una lista\n",
        "print(set(lista))# una lista se puede convertir en un conjunto\n"
      ],
      "execution_count": 47,
      "outputs": [
        {
          "output_type": "stream",
          "text": [
            "[1, 3.4, 'hola']\n",
            "{1, 3.4, 'hola'}\n"
          ],
          "name": "stdout"
        }
      ]
    },
    {
      "cell_type": "code",
      "metadata": {
        "id": "4Lcw_R0C3f9_",
        "colab_type": "code",
        "colab": {
          "base_uri": "https://localhost:8080/",
          "height": 51
        },
        "outputId": "c87ce57f-d698-4ded-c24b-046b112ba6c4"
      },
      "source": [
        "conjunto.add(5)#agrega un elemento al conjunto\n",
        "print(conjunto)\n",
        "conjunto.discard(1)#elimina un elemento del conjunto\n",
        "print(conjunto)"
      ],
      "execution_count": 53,
      "outputs": [
        {
          "output_type": "stream",
          "text": [
            "{3.4, 5, 'hola'}\n",
            "{3.4, 5, 'hola'}\n"
          ],
          "name": "stdout"
        }
      ]
    },
    {
      "cell_type": "code",
      "metadata": {
        "id": "lHokq7V67b7l",
        "colab_type": "code",
        "colab": {
          "base_uri": "https://localhost:8080/",
          "height": 34
        },
        "outputId": "1ab2faf5-cbb9-4cce-84fe-6e2a325ba34c"
      },
      "source": [
        "3.4 in conjunto # in es un metodo que nos permite saber si un elemento esta en un conjunto"
      ],
      "execution_count": 54,
      "outputs": [
        {
          "output_type": "execute_result",
          "data": {
            "text/plain": [
              "True"
            ]
          },
          "metadata": {
            "tags": []
          },
          "execution_count": 54
        }
      ]
    },
    {
      "cell_type": "code",
      "metadata": {
        "id": "8f8RoWCA73hN",
        "colab_type": "code",
        "colab": {
          "base_uri": "https://localhost:8080/",
          "height": 34
        },
        "outputId": "fd32b742-f6bf-475a-e574-b186aebada58"
      },
      "source": [
        "len(conjunto)#Nos arroja la cantidad de elemento en el conjunto"
      ],
      "execution_count": 56,
      "outputs": [
        {
          "output_type": "execute_result",
          "data": {
            "text/plain": [
              "3"
            ]
          },
          "metadata": {
            "tags": []
          },
          "execution_count": 56
        }
      ]
    },
    {
      "cell_type": "code",
      "metadata": {
        "id": "H2kpyxS79H9w",
        "colab_type": "code",
        "colab": {
          "base_uri": "https://localhost:8080/",
          "height": 68
        },
        "outputId": "aaa96740-343c-45fe-912d-18c2868fda7b"
      },
      "source": [
        "for item in conjunto:\n",
        "  print(item)"
      ],
      "execution_count": 62,
      "outputs": [
        {
          "output_type": "stream",
          "text": [
            "3.4\n",
            "5\n",
            "hola\n"
          ],
          "name": "stdout"
        }
      ]
    },
    {
      "cell_type": "markdown",
      "metadata": {
        "id": "BuVQeWYO6eMM",
        "colab_type": "text"
      },
      "source": [
        "## Operaciones entre Conjuntos\n",
        "* Unión\n",
        "* Intersección\n",
        "* Diferencia\n",
        "* SubConjuntos\n",
        "* SuperConjuntos\n",
        "* Conjuntos Disconexos\n"
      ]
    },
    {
      "cell_type": "code",
      "metadata": {
        "id": "byPxfS276MlJ",
        "colab_type": "code",
        "colab": {
          "base_uri": "https://localhost:8080/",
          "height": 34
        },
        "outputId": "5973510f-67d8-4f44-dc22-06066eba2936"
      },
      "source": [
        "conjunto_2 = {1, 4, 4.3, 5, 'hola'}\n",
        "#Union, regresa un conjunto con los elemento que este en al menos uno de los 2 conjuntos\n",
        "conjunto | conjunto_2"
      ],
      "execution_count": 65,
      "outputs": [
        {
          "output_type": "execute_result",
          "data": {
            "text/plain": [
              "{1, 3.4, 4, 4.3, 5, 'hola'}"
            ]
          },
          "metadata": {
            "tags": []
          },
          "execution_count": 65
        }
      ]
    },
    {
      "cell_type": "code",
      "metadata": {
        "id": "ij3WZLpo8m8p",
        "colab_type": "code",
        "colab": {
          "base_uri": "https://localhost:8080/",
          "height": 34
        },
        "outputId": "8741591b-7c64-4c76-bac1-0e0cc3826a35"
      },
      "source": [
        "#Intersección, regresa un conjunto con los elementos que se encuentras en ambos conjuntos\n",
        "conjunto & conjunto_2 "
      ],
      "execution_count": 64,
      "outputs": [
        {
          "output_type": "execute_result",
          "data": {
            "text/plain": [
              "{5, 'hola'}"
            ]
          },
          "metadata": {
            "tags": []
          },
          "execution_count": 64
        }
      ]
    },
    {
      "cell_type": "code",
      "metadata": {
        "id": "pVP787gh9hwl",
        "colab_type": "code",
        "colab": {
          "base_uri": "https://localhost:8080/",
          "height": 34
        },
        "outputId": "e350f967-1570-4f5e-8f94-379d0e9da711"
      },
      "source": [
        "#Diferencia, regresa un conjunto con los elementos de conjunto que no estan en conjunto_2\n",
        "conjunto - conjunto_2"
      ],
      "execution_count": 66,
      "outputs": [
        {
          "output_type": "execute_result",
          "data": {
            "text/plain": [
              "{3.4}"
            ]
          },
          "metadata": {
            "tags": []
          },
          "execution_count": 66
        }
      ]
    },
    {
      "cell_type": "code",
      "metadata": {
        "id": "xSbZoOyv-Cz4",
        "colab_type": "code",
        "colab": {
          "base_uri": "https://localhost:8080/",
          "height": 34
        },
        "outputId": "4932250e-37e2-437a-dc66-86dad86ac3e7"
      },
      "source": [
        "#Si conjunto_2 es un subconjunto de conjunto, issubset() retornara un True\n",
        "#Un conjunto es un subconjunto de otro cuando todos los elementos de este, estan presente en dicho conjunto\n",
        "conjunto.issubset(conjunto_2)"
      ],
      "execution_count": 67,
      "outputs": [
        {
          "output_type": "execute_result",
          "data": {
            "text/plain": [
              "False"
            ]
          },
          "metadata": {
            "tags": []
          },
          "execution_count": 67
        }
      ]
    },
    {
      "cell_type": "code",
      "metadata": {
        "id": "J2V0TfFZ-kn9",
        "colab_type": "code",
        "colab": {
          "base_uri": "https://localhost:8080/",
          "height": 34
        },
        "outputId": "1a5554f1-516c-4274-f678-63f427be15b8"
      },
      "source": [
        "#Si conjunto_2 es un superconjunto de conjunto, issuperset() retornara un True\n",
        "conjunto.issuperset(conjunto_2)"
      ],
      "execution_count": 68,
      "outputs": [
        {
          "output_type": "execute_result",
          "data": {
            "text/plain": [
              "False"
            ]
          },
          "metadata": {
            "tags": []
          },
          "execution_count": 68
        }
      ]
    },
    {
      "cell_type": "code",
      "metadata": {
        "id": "O-QeKPoY_BtV",
        "colab_type": "code",
        "colab": {
          "base_uri": "https://localhost:8080/",
          "height": 34
        },
        "outputId": "a51f7493-150a-4674-a8cf-f423fab3bcfc"
      },
      "source": [
        "#Todo conjunto es un subconjunto y superconjunto de si mismo\n",
        "conjunto.issubset(conjunto_2)\n"
      ],
      "execution_count": 70,
      "outputs": [
        {
          "output_type": "execute_result",
          "data": {
            "text/plain": [
              "True"
            ]
          },
          "metadata": {
            "tags": []
          },
          "execution_count": 70
        }
      ]
    },
    {
      "cell_type": "code",
      "metadata": {
        "id": "CAAXdOs3_9_R",
        "colab_type": "code",
        "colab": {
          "base_uri": "https://localhost:8080/",
          "height": 34
        },
        "outputId": "ec691713-23aa-4ec2-cf82-14288b63b212"
      },
      "source": [
        "conjunto.issuperset(conjunto)"
      ],
      "execution_count": 71,
      "outputs": [
        {
          "output_type": "execute_result",
          "data": {
            "text/plain": [
              "True"
            ]
          },
          "metadata": {
            "tags": []
          },
          "execution_count": 71
        }
      ]
    },
    {
      "cell_type": "code",
      "metadata": {
        "id": "v33UeIntAQ6_",
        "colab_type": "code",
        "colab": {
          "base_uri": "https://localhost:8080/",
          "height": 34
        },
        "outputId": "a82102a9-7297-419c-bf4e-0bc917d1b7dd"
      },
      "source": [
        "#un conjunto es disconexo respecto de otro si no comparten elementos entre sí.\n",
        "conjunto.isdisjoint(conjunto_2)"
      ],
      "execution_count": 72,
      "outputs": [
        {
          "output_type": "execute_result",
          "data": {
            "text/plain": [
              "False"
            ]
          },
          "metadata": {
            "tags": []
          },
          "execution_count": 72
        }
      ]
    },
    {
      "cell_type": "markdown",
      "metadata": {
        "id": "YKNd4P0D1xvU",
        "colab_type": "text"
      },
      "source": [
        "# Tuplas\n",
        "las tuplas son un tipo de secuencia inmutable. Esto quiere decir que una tupla no puede ser modificada."
      ]
    },
    {
      "cell_type": "code",
      "metadata": {
        "id": "SpLQFrTL1pQk",
        "colab_type": "code",
        "colab": {}
      },
      "source": [
        "#existen 2 maneras de inicializar una tupla vacia\n",
        "tupla = ()\n",
        "tupla_2 = tuple()"
      ],
      "execution_count": 77,
      "outputs": []
    },
    {
      "cell_type": "code",
      "metadata": {
        "id": "00i9Q6_oG9L-",
        "colab_type": "code",
        "colab": {
          "base_uri": "https://localhost:8080/",
          "height": 34
        },
        "outputId": "5941dbb5-633c-4b45-a7bb-76e0e63a5696"
      },
      "source": [
        "# Las tuplas tambien pueden tener elementos variados en esta, incluyendo elementos mutables\n",
        "tupla = 'hola', 3.5, 5, {4:5}\n",
        "print(tupla)\n"
      ],
      "execution_count": 86,
      "outputs": [
        {
          "output_type": "stream",
          "text": [
            "('hola', 3.5, 5, {4: 5})\n"
          ],
          "name": "stdout"
        }
      ]
    },
    {
      "cell_type": "code",
      "metadata": {
        "id": "44W2dEKJHGWr",
        "colab_type": "code",
        "colab": {
          "base_uri": "https://localhost:8080/",
          "height": 34
        },
        "outputId": "b60e19ae-1d6b-42db-d3e7-f26b24b3f4d7"
      },
      "source": [
        "#Los elementos se pueden asignar una tupla con o sin parentesis\n",
        "tupla_2 = (3, 6, 'hola', 5.)\n",
        "print(tupla_2)"
      ],
      "execution_count": 80,
      "outputs": [
        {
          "output_type": "stream",
          "text": [
            "(3, 6, 'hola', 5.0)\n"
          ],
          "name": "stdout"
        }
      ]
    },
    {
      "cell_type": "code",
      "metadata": {
        "id": "WAh1AISNHZaC",
        "colab_type": "code",
        "colab": {
          "base_uri": "https://localhost:8080/",
          "height": 51
        },
        "outputId": "257f48f0-c9f4-4665-c269-cbc94bc85f84"
      },
      "source": [
        "\"\"\"Para asignar un unico elemento a una tupla, se pone una coma al final de este para \n",
        "python entienda que se tratade una tupla\"\"\"\n",
        "tupla = 3,\n",
        "print(tupla)\n",
        "tupla_2 = (4,)\n",
        "print(tupla_2)"
      ],
      "execution_count": 87,
      "outputs": [
        {
          "output_type": "stream",
          "text": [
            "(3,)\n",
            "(4,)\n"
          ],
          "name": "stdout"
        }
      ]
    },
    {
      "cell_type": "code",
      "metadata": {
        "id": "owZ47NyVHxrK",
        "colab_type": "code",
        "colab": {
          "base_uri": "https://localhost:8080/",
          "height": 34
        },
        "outputId": "6da49529-e967-46c2-bbb0-312c631cb226"
      },
      "source": [
        "#Las tuplas son inmutables, pero los elementos como listas en esta, no lo son\n",
        "tupla = ([4,5],4.,'hola')\n",
        "tupla[0].append(8)\n",
        "print(tupla)"
      ],
      "execution_count": 85,
      "outputs": [
        {
          "output_type": "stream",
          "text": [
            "([4, 5, 8], 4.0, 'hola')\n"
          ],
          "name": "stdout"
        }
      ]
    },
    {
      "cell_type": "markdown",
      "metadata": {
        "id": "mE0n_4r94KJE",
        "colab_type": "text"
      },
      "source": [
        "#Diccionarios#\n",
        "### Un Diccionario es una estructura de datos y un tipo de dato en Python con características especiales que nos permite almacenar cualquier tipo de valor como enteros, cadenas, listas e incluso otras funciones. Estos diccionarios nos permiten además identificar cada elemento por una clave (Key).###\n",
        "#### Un diccionario se crea usando {} y los elementos clave:valor, separados por una coma {'nombre':'cristian', 'sexo':'masculino'} #####"
      ]
    },
    {
      "cell_type": "code",
      "metadata": {
        "id": "S_pqWWujoazd",
        "colab_type": "code",
        "colab": {}
      },
      "source": [
        "diccionario = {}"
      ],
      "execution_count": 30,
      "outputs": []
    },
    {
      "cell_type": "code",
      "metadata": {
        "id": "ATeRUIQq3JRm",
        "colab_type": "code",
        "colab": {}
      },
      "source": [
        "\n",
        "diccionario = {12345:'cristian',12346:'cesar',12347:'diana'}\n"
      ],
      "execution_count": 24,
      "outputs": []
    },
    {
      "cell_type": "code",
      "metadata": {
        "id": "Mvo8kqOve1zR",
        "colab_type": "code",
        "colab": {
          "base_uri": "https://localhost:8080/",
          "height": 34
        },
        "outputId": "2ec9688e-1d28-4341-d380-a1c09c12cb0b"
      },
      "source": [
        "diccionario[12345]"
      ],
      "execution_count": null,
      "outputs": [
        {
          "output_type": "execute_result",
          "data": {
            "text/plain": [
              "'cristian'"
            ]
          },
          "metadata": {
            "tags": []
          },
          "execution_count": 15
        }
      ]
    },
    {
      "cell_type": "markdown",
      "metadata": {
        "id": "fGqjSjpx6z_R",
        "colab_type": "text"
      },
      "source": [
        "##Métodos de los Diccionarios#\n",
        "\n",
        "*  keys()\n",
        "*  values()\n",
        "*  copy()\n",
        "*  get()\n",
        "*  update()\n"
      ]
    },
    {
      "cell_type": "code",
      "metadata": {
        "id": "ufKEmny77e36",
        "colab_type": "code",
        "colab": {
          "base_uri": "https://localhost:8080/",
          "height": 34
        },
        "outputId": "5c7c8de5-dc2e-4cbd-818a-91d8cc94d18a"
      },
      "source": [
        "#Devuelve una lista con la claves del diccionario\n",
        "keys = diccionario.keys()\n",
        "keys"
      ],
      "execution_count": null,
      "outputs": [
        {
          "output_type": "execute_result",
          "data": {
            "text/plain": [
              "dict_keys([12345, 12346, 12347])"
            ]
          },
          "metadata": {
            "tags": []
          },
          "execution_count": 16
        }
      ]
    },
    {
      "cell_type": "code",
      "metadata": {
        "id": "nAlhzZjk71qH",
        "colab_type": "code",
        "colab": {
          "base_uri": "https://localhost:8080/",
          "height": 34
        },
        "outputId": "12b7b939-2be2-408a-d9fe-d29e48284637"
      },
      "source": [
        "#Devuelve una lista con los valores del diccionario\n",
        "values = diccionario.values()\n",
        "values"
      ],
      "execution_count": null,
      "outputs": [
        {
          "output_type": "execute_result",
          "data": {
            "text/plain": [
              "dict_values(['cristian', 'cesar', 'diana'])"
            ]
          },
          "metadata": {
            "tags": []
          },
          "execution_count": 17
        }
      ]
    },
    {
      "cell_type": "code",
      "metadata": {
        "id": "Akr0-6x97-iJ",
        "colab_type": "code",
        "colab": {
          "base_uri": "https://localhost:8080/",
          "height": 34
        },
        "outputId": "a4451cac-c593-4577-bc79-6672d873ee62"
      },
      "source": [
        "#Regresa una copia del diccionario original\n",
        "dic = diccionario.copy()\n",
        "dic"
      ],
      "execution_count": 26,
      "outputs": [
        {
          "output_type": "execute_result",
          "data": {
            "text/plain": [
              "{12345: 'cristian', 12346: 'cesar', 12347: 'diana'}"
            ]
          },
          "metadata": {
            "tags": []
          },
          "execution_count": 26
        }
      ]
    },
    {
      "cell_type": "code",
      "metadata": {
        "id": "YT1AenbZ8MPQ",
        "colab_type": "code",
        "colab": {
          "base_uri": "https://localhost:8080/",
          "height": 34
        },
        "outputId": "1d740c02-1cd5-43cc-d932-26798c9ede78"
      },
      "source": [
        "# Recibe una llave como parámetro y regresa el valor asociado a esta, si la llave no existe regresa un None\n",
        "valor = diccionario.get(12345)\n",
        "valor"
      ],
      "execution_count": null,
      "outputs": [
        {
          "output_type": "execute_result",
          "data": {
            "text/plain": [
              "'cristian'"
            ]
          },
          "metadata": {
            "tags": []
          },
          "execution_count": 19
        }
      ]
    },
    {
      "cell_type": "code",
      "metadata": {
        "id": "4yMFDiU09J2T",
        "colab_type": "code",
        "colab": {
          "base_uri": "https://localhost:8080/",
          "height": 34
        },
        "outputId": "04af6ceb-b583-48a6-f0c9-b1142fb855e8"
      },
      "source": [
        "# Recibe como parámetro para agregar una llave:valor, si la llave ya existe actualiza el valor\n",
        "dic['cristian'] = 'prieto'\n",
        "dic[12345] = 'eduardo'\n",
        "dic"
      ],
      "execution_count": 27,
      "outputs": [
        {
          "output_type": "execute_result",
          "data": {
            "text/plain": [
              "{12345: 'eduardo', 12346: 'cesar', 12347: 'diana', 'cristian': 'prieto'}"
            ]
          },
          "metadata": {
            "tags": []
          },
          "execution_count": 27
        }
      ]
    },
    {
      "cell_type": "code",
      "metadata": {
        "id": "L-iUA_cR9cLP",
        "colab_type": "code",
        "colab": {
          "base_uri": "https://localhost:8080/",
          "height": 34
        },
        "outputId": "8c74a672-2d1e-4638-b876-efd18bf13286"
      },
      "source": [
        "# Recibe otro diccionario como parámetro, si se tiene claves iguales se actualizan la claves repetidas, las nuevas claves:valor son agregadas\n",
        "diccionario.update(dic)\n",
        "diccionario"
      ],
      "execution_count": 88,
      "outputs": [
        {
          "output_type": "execute_result",
          "data": {
            "text/plain": [
              "{12345: 'eduardo', 12346: 'cesar', 12347: 'diana', 'cristian': 'prieto'}"
            ]
          },
          "metadata": {
            "tags": []
          },
          "execution_count": 88
        }
      ]
    },
    {
      "cell_type": "code",
      "metadata": {
        "id": "9FvfwPVXKAqh",
        "colab_type": "code",
        "colab": {
          "base_uri": "https://localhost:8080/",
          "height": 35
        },
        "outputId": "9d60f0a7-462f-4d83-9bdd-92345ca2c121"
      },
      "source": [
        "# Una manera de acceder a un valor es a traves de su clave\n",
        "diccionario[12347]"
      ],
      "execution_count": 89,
      "outputs": [
        {
          "output_type": "execute_result",
          "data": {
            "application/vnd.google.colaboratory.intrinsic+json": {
              "type": "string"
            },
            "text/plain": [
              "'diana'"
            ]
          },
          "metadata": {
            "tags": []
          },
          "execution_count": 89
        }
      ]
    },
    {
      "cell_type": "code",
      "metadata": {
        "id": "83z86sr5nRIS",
        "colab_type": "code",
        "colab": {
          "base_uri": "https://localhost:8080/",
          "height": 85
        },
        "outputId": "1869ff27-796b-4212-e377-7069858a32fe"
      },
      "source": [
        "  for keys, values in diccionario.items():\n",
        "    print('key: {}, values: {}'.format(keys,values))"
      ],
      "execution_count": 29,
      "outputs": [
        {
          "output_type": "stream",
          "text": [
            "key: 12345, values: eduardo\n",
            "key: 12346, values: cesar\n",
            "key: 12347, values: diana\n",
            "key: cristian, values: prieto\n"
          ],
          "name": "stdout"
        }
      ]
    },
    {
      "cell_type": "markdown",
      "metadata": {
        "id": "AjMMN-iR_KTS",
        "colab_type": "text"
      },
      "source": [
        "#Funciones#\n",
        "###Una función es un bloque de código con un nombre asociado, que recibe cero o más argumentos como entrada, sigue una secuencia de sentencias, la cuales ejecuta una operación deseada y devuelve un valor y/o realiza una tarea, este bloque puede ser llamados cuando se necesite.###\n",
        "\n",
        "    "
      ]
    },
    {
      "cell_type": "code",
      "metadata": {
        "id": "iNAnWAUM910I",
        "colab_type": "code",
        "colab": {}
      },
      "source": [
        "import numpy as np\n",
        "#La sentencia def, nos permite definir la función, el cuerpo de la función siempre debe estar identado\n",
        "def promedio(x): \n",
        "  #Saca el promedio de un arreglo\n",
        "  return print(x.mean())\n"
      ],
      "execution_count": null,
      "outputs": []
    },
    {
      "cell_type": "code",
      "metadata": {
        "id": "grHS6f_S_ES6",
        "colab_type": "code",
        "colab": {
          "base_uri": "https://localhost:8080/",
          "height": 34
        },
        "outputId": "47b17e1f-fc3b-4018-f7cc-573d48e78c44"
      },
      "source": [
        "#Crea una arreglo con la libreria numpy\n",
        "arreglo = np.array([1, 2, 3, 1])\n",
        "#Envia el arreglo como parámetro a la funcion creada anteriormente\n",
        "promedio(arreglo)"
      ],
      "execution_count": null,
      "outputs": [
        {
          "output_type": "stream",
          "text": [
            "1.75\n"
          ],
          "name": "stdout"
        }
      ]
    },
    {
      "cell_type": "code",
      "metadata": {
        "id": "HLe79FVvCbTk",
        "colab_type": "code",
        "colab": {
          "base_uri": "https://localhost:8080/",
          "height": 34
        },
        "outputId": "944da095-992a-4ea7-8c17-44374eb751e3"
      },
      "source": [
        "#Las funciones no necesariamente deben recibir parámetros antes de ser invocada\n",
        "def saludo():\n",
        "  return print('Saludos Escuela Colombiana de IA')\n",
        "\n",
        "saludo()"
      ],
      "execution_count": null,
      "outputs": [
        {
          "output_type": "stream",
          "text": [
            "Saludos Escuela Colombiana de IA\n"
          ],
          "name": "stdout"
        }
      ]
    },
    {
      "cell_type": "code",
      "metadata": {
        "id": "YJ0BSj-WCtcr",
        "colab_type": "code",
        "colab": {}
      },
      "source": [
        "#Crear un diccionario mediante la unión de 2 listas\n",
        "def diccionarios(lista1, lista2):\n",
        "  dic = dict(zip(lista1,lista2))\n",
        "  return dic\n"
      ],
      "execution_count": null,
      "outputs": []
    },
    {
      "cell_type": "code",
      "metadata": {
        "id": "AkOBy0LqEy9m",
        "colab_type": "code",
        "colab": {}
      },
      "source": [
        "#en este ejemplo tenemos mas claves que valores\n",
        "numeros = [1,2,3,4,5]\n",
        "letras = ['a','b','c','d']\n",
        "diccionario = diccionarios(numeros, letras)"
      ],
      "execution_count": null,
      "outputs": []
    },
    {
      "cell_type": "code",
      "metadata": {
        "id": "vMDLm6apFP_n",
        "colab_type": "code",
        "colab": {
          "base_uri": "https://localhost:8080/",
          "height": 34
        },
        "outputId": "c00f969f-0926-4c4d-fa21-b361fa24e6bb"
      },
      "source": [
        "diccionario \n"
      ],
      "execution_count": null,
      "outputs": [
        {
          "output_type": "execute_result",
          "data": {
            "text/plain": [
              "{1: 'a', 2: 'b', 3: 'c', 4: 'd'}"
            ]
          },
          "metadata": {
            "tags": []
          },
          "execution_count": 6
        }
      ]
    },
    {
      "cell_type": "markdown",
      "metadata": {
        "id": "yO8A1zHPRJd2",
        "colab_type": "text"
      },
      "source": [
        "##  * Args y * * Kwargs\n",
        "Usamos * args y ** kwargs como argumento cuando tenemos dudas sobre la cantidad de argumentos que debemos pasar en una función.\n",
        "## \" *args\"\n",
        "Usamos *args para pasar una lista de argumentos variables a una función. La sintaxis es usar el símbolo *, por conveción se usa la palabra args pero esto no es obligatorio.\n",
        "## \"**kwargs\"\n",
        "Usamos **kwargs para pasar una lista de argumentos con palabras claves de longitud variable a una función,  La sintaxis es usar el símbolo * *, por conveción se usa la palabra kwargs pero esto no es obligatorio.\n"
      ]
    },
    {
      "cell_type": "code",
      "metadata": {
        "id": "n-3xA2rQ72Mx",
        "colab_type": "code",
        "colab": {
          "base_uri": "https://localhost:8080/",
          "height": 52
        },
        "outputId": "d36ad65a-b905-4f74-c228-7ee10b954000"
      },
      "source": [
        "def multiplicacion(x, y):\n",
        "    print (x * y)\n",
        "    return \"multiplicacion\"\n",
        "multiplicacion(4, 5)"
      ],
      "execution_count": 13,
      "outputs": [
        {
          "output_type": "stream",
          "text": [
            "20\n"
          ],
          "name": "stdout"
        },
        {
          "output_type": "execute_result",
          "data": {
            "application/vnd.google.colaboratory.intrinsic+json": {
              "type": "string"
            },
            "text/plain": [
              "'multiplicacion'"
            ]
          },
          "metadata": {
            "tags": []
          },
          "execution_count": 13
        }
      ]
    },
    {
      "cell_type": "code",
      "metadata": {
        "id": "xjm8BcMNi8b4",
        "colab_type": "code",
        "colab": {
          "base_uri": "https://localhost:8080/",
          "height": 51
        },
        "outputId": "13f132c6-907d-4b58-d9a0-5ba16a4b51ad"
      },
      "source": [
        "def argumentos(*argumentos):\n",
        "  print(argumentos)\n",
        "\n",
        "argumentos(4, 3==3, 2>6, 'Argumentos', 9.7, [7, 8], {\"dic\":\"dic1\"}, multiplicacion(4, 5))"
      ],
      "execution_count": 21,
      "outputs": [
        {
          "output_type": "stream",
          "text": [
            "20\n",
            "(4, True, False, 'Argumentos', 9.7, [7, 8], {'dic': 'dic1'}, 'multiplicacion')\n"
          ],
          "name": "stdout"
        }
      ]
    },
    {
      "cell_type": "code",
      "metadata": {
        "id": "GqJ6xcVamY2h",
        "colab_type": "code",
        "colab": {
          "base_uri": "https://localhost:8080/",
          "height": 51
        },
        "outputId": "6702dbff-3d77-4820-e2e4-eefa77ec3bed"
      },
      "source": [
        "print(argumentos())"
      ],
      "execution_count": 20,
      "outputs": [
        {
          "output_type": "stream",
          "text": [
            "()\n",
            "()\n"
          ],
          "name": "stdout"
        }
      ]
    },
    {
      "cell_type": "code",
      "metadata": {
        "id": "-CmFIMfAWLMk",
        "colab_type": "code",
        "colab": {
          "base_uri": "https://localhost:8080/",
          "height": 85
        },
        "outputId": "8644b2f8-27b5-49ec-bdca-ebbd0c5ceb85"
      },
      "source": [
        "def diccionario(**kwargs):\n",
        "  print(kwargs)\n",
        "  for keys, values in kwargs.items():\n",
        "    print('key: {}, values: {}'.format(keys,values))\n",
        "\n",
        "diccionario(key_1=\"escuela\", key_2=3<2, key_3=4)"
      ],
      "execution_count": 6,
      "outputs": [
        {
          "output_type": "stream",
          "text": [
            "{'key_1': 'escuela', 'key_2': False, 'key_3': 4}\n",
            "key: key_1, values: escuela\n",
            "key: key_2, values: False\n",
            "key: key_3, values: 4\n"
          ],
          "name": "stdout"
        }
      ]
    },
    {
      "cell_type": "markdown",
      "metadata": {
        "id": "NtLOgCEqSYq6",
        "colab_type": "text"
      },
      "source": [
        "# Clases\n",
        "Las clases proveen una forma de empaquetar datos y funcionalidad juntos. Al crear una nueva clase, se crea un nuevo tipo de objeto, permitiendo crear nuevas instancias de ese tipo. Cada instancia de clase puede tener atributos adjuntos para mantener su estado. Las instancias de clase también pueden tener métodos (definidos por su clase) para modificar su estado."
      ]
    },
    {
      "cell_type": "code",
      "metadata": {
        "id": "Jkjxfmg4njfS",
        "colab_type": "code",
        "colab": {
          "base_uri": "https://localhost:8080/",
          "height": 102
        },
        "outputId": "60d6cb85-14df-41c0-eb0a-290e6c86dbce"
      },
      "source": [
        "class Biscocho:\n",
        "  def __init__ (self, type, *nombre, **ingredientes):\n",
        "    self.ingredientes = ingredientes\n",
        "    self.type = type\n",
        "    self.nombre = nombre\n",
        "    \n",
        "  def tipo(self):\n",
        "    print('este biscocho es de tipo '+ self.type)\n",
        "  \n",
        "  def ingredient(self):\n",
        "    if self.ingredientes:\n",
        "      print('Los ingredientes que necesitaremos son: ')\n",
        "      for keys, values in self.ingredientes.items():\n",
        "        print('{}, cantidad: {}'.format(keys, values))\n",
        "    else:\n",
        "      print('no hay ingredientes disponibles')\n",
        "\n",
        "torta = Biscocho('frio','Torta de chocolate', harina='300 g',leche='200 ml', chocolate='200 g')\n",
        "torta.tipo()\n",
        "torta.ingredient()\n"
      ],
      "execution_count": 194,
      "outputs": [
        {
          "output_type": "stream",
          "text": [
            "este biscocho es de tipo frio\n",
            "Los ingredientes que necesitaremos son: \n",
            "harina, cantidad: 300 g\n",
            "leche, cantidad: 200 ml\n",
            "chocolate, cantidad: 200 g\n"
          ],
          "name": "stdout"
        }
      ]
    },
    {
      "cell_type": "code",
      "metadata": {
        "id": "ioWb3XJpeF1H",
        "colab_type": "code",
        "colab": {
          "base_uri": "https://localhost:8080/",
          "height": 68
        },
        "outputId": "c48925a0-ae56-43b8-d4ab-8b29b7ce9501"
      },
      "source": [
        "class Galleta(Biscocho):\n",
        "  def sabor(self, sabor):\n",
        "    print ('la galleta es de sabor a '+ sabor)\n",
        "    \n",
        "\n",
        "galletas = Galleta('caliente', 'galleta de macadamia')\n",
        "galletas.tipo()\n",
        "galletas.sabor('chocolate')\n",
        "galletas.nombre\n"
      ],
      "execution_count": 117,
      "outputs": [
        {
          "output_type": "stream",
          "text": [
            "este biscocho es de tipo caliente\n",
            "la galleta es de sabor a chocolate\n"
          ],
          "name": "stdout"
        },
        {
          "output_type": "execute_result",
          "data": {
            "text/plain": [
              "('galleta de macadamia',)"
            ]
          },
          "metadata": {
            "tags": []
          },
          "execution_count": 117
        }
      ]
    },
    {
      "cell_type": "markdown",
      "metadata": {
        "id": "p6VZKKxdpHce",
        "colab_type": "text"
      },
      "source": [
        "# Errores y Excepciones\n",
        "Hay (al menos) dos tipos diferentes de errores: errores de sintaxis y excepciones.\n",
        "## Errores\n",
        "Los errores de sintaxis, también conocidos como errores de interpretación, son quizás el tipo de queja más común que tenés cuando todavía estás aprendiendo Python\n",
        "## Excepciones\n",
        "Incluso si una declaración o expresión es sintácticamente correcta, puede generar un error cuando se intenta ejecutar. Los errores detectados durante la ejecución se llaman excepciones, y no son incondicionalmente fatales\n"
      ]
    },
    {
      "cell_type": "code",
      "metadata": {
        "id": "m7r3LoHIpLmt",
        "colab_type": "code",
        "colab": {
          "base_uri": "https://localhost:8080/",
          "height": 34
        },
        "outputId": "9e2e7940-123a-4375-cbe1-acc3baabc4d5"
      },
      "source": [
        "#Función destinada a fallar\n",
        "def error():\n",
        "  print(1/0)\n",
        "\"\"\"lo que esta entre try y except, se ejecuta primero, en caso de encontrar un error\n",
        "parara la ejecución y pasara a lo que esta en except\"\"\"\n",
        "try:\n",
        "  error() \n",
        "except Exception as e:\n",
        "    #nos enseña cual es el nombre del error, de esta manera podemos gestionarlos adecuadamente\n",
        "    print(\"Ha ocurrido un error =>\", type(e).__name__)"
      ],
      "execution_count": 133,
      "outputs": [
        {
          "output_type": "stream",
          "text": [
            "Ha ocurrido un error => ZeroDivisionError\n"
          ],
          "name": "stdout"
        }
      ]
    },
    {
      "cell_type": "code",
      "metadata": {
        "id": "ZHiEW0egpg8l",
        "colab_type": "code",
        "colab": {
          "base_uri": "https://localhost:8080/",
          "height": 136
        },
        "outputId": "0dbc9fee-f51d-4831-b006-e846bfb95f52"
      },
      "source": [
        "def error():\n",
        "  x = float(input(\"Introduce un número: \"))\n",
        "  print(1/x)\n",
        "#Este ciclo while se ejecutara mientras no le digamos lo contrario\n",
        "while(True):\n",
        "    try:\n",
        "      error()\n",
        "    # Aqui ya gestionamos  la excepción de división por 0\n",
        "    except ZeroDivisionError:\n",
        "        print(\"La división por 0 no esta permitida\")\n",
        "    except:\n",
        "        except Exception as e:\n",
        "    # En caso de que no encuentre una excepción ejecutara este bloque\n",
        "    else:\n",
        "        print(\"Todo ha funcionado correctamente\")\n",
        "        break  # Importante romper la iteración si todo ha salido bien\n",
        "        "
      ],
      "execution_count": 140,
      "outputs": [
        {
          "output_type": "stream",
          "text": [
            "Introduce un número: 0\n",
            "La división por 0 no esta permitida\n",
            "Introduce un número: f\n",
            "Ha ocurrido un error, introduce bien el número\n",
            "Introduce un número: 5\n",
            "0.2\n",
            "Todo ha funcionado correctamente\n"
          ],
          "name": "stdout"
        }
      ]
    },
    {
      "cell_type": "code",
      "metadata": {
        "id": "4nQd4_3_puYE",
        "colab_type": "code",
        "colab": {
          "base_uri": "https://localhost:8080/",
          "height": 85
        },
        "outputId": "c83256c4-a2a5-40ca-f03c-a7dfeccfc58a"
      },
      "source": [
        "while(True):\n",
        "    try:\n",
        "      error()\n",
        "    except ZeroDivisionError:\n",
        "        print(\"La división por 0 no esta permitida\")\n",
        "    except:\n",
        "        print(\"Ha ocurrido un error, introduce bien el número\")\n",
        "    else:\n",
        "        print(\"Todo ha funcionado correctamente\")\n",
        "        break  \n",
        "    # Este bloque se ejecutara siempre al final\n",
        "    finally:\n",
        "        print(\"Gracias por usar nuestro servicio de División\") # Siempre se ejecuta"
      ],
      "execution_count": 141,
      "outputs": [
        {
          "output_type": "stream",
          "text": [
            "Introduce un número: 5\n",
            "0.2\n",
            "Todo ha funcionado correctamente\n",
            "Gracias por usar nuestro servicio de División\n"
          ],
          "name": "stdout"
        }
      ]
    },
    {
      "cell_type": "markdown",
      "metadata": {
        "id": "hkOBV01Kw1Og",
        "colab_type": "text"
      },
      "source": [
        "# Graficos Matplotlib\n",
        "Matplotlib es una biblioteca completa para crear visualizaciones estáticas, animadas e interactivas en Python "
      ]
    },
    {
      "cell_type": "code",
      "metadata": {
        "id": "zrzVi1glw8kv",
        "colab_type": "code",
        "colab": {
          "base_uri": "https://localhost:8080/",
          "height": 265
        },
        "outputId": "b854f032-b9fc-4ba8-8371-5c1d347271af"
      },
      "source": [
        "import matplotlib.pyplot as plt\n",
        "\n",
        "plt.plot([1, 2, 7, 4])\n",
        "plt.show()\n",
        "plt.close()"
      ],
      "execution_count": 213,
      "outputs": [
        {
          "output_type": "display_data",
          "data": {
            "image/png": "[encoded data removed]",
            "text/plain": [
              "<Figure size 432x288 with 1 Axes>"
            ]
          },
          "metadata": {
            "tags": [],
            "needs_background": "light"
          }
        }
      ]
    }
  ]
}