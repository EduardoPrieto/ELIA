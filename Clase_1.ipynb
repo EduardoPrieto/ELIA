{
  "nbformat": 4,
  "nbformat_minor": 0,
  "metadata": {
    "colab": {
      "name": "Clase_1.ipynb",
      "provenance": [],
      "toc_visible": true,
      "authorship_tag": "ABX9TyPOKVRioM7288IlwPkHRSKI",
      "include_colab_link": true
    },
    "kernelspec": {
      "name": "python3",
      "display_name": "Python 3"
    },
    "language_info": {
      "name": "python"
    }
  },
  "cells": [
    {
      "cell_type": "markdown",
      "metadata": {
        "id": "view-in-github",
        "colab_type": "text"
      },
      "source": [
        "<a href=\"https://colab.research.google.com/github/EduardoPrieto/ELIA/blob/master/Clase_1.ipynb\" target=\"_parent\"><img src=\"https://colab.research.google.com/assets/colab-badge.svg\" alt=\"Open In Colab\"/></a>"
      ]
    },
    {
      "cell_type": "markdown",
      "source": [
        "# Programación en python"
      ],
      "metadata": {
        "id": "QVfEN54Q2CiK"
      }
    },
    {
      "cell_type": "markdown",
      "source": [
        "## Variables y operaciones\n"
      ],
      "metadata": {
        "id": "GdY-xaK94M5i"
      }
    },
    {
      "cell_type": "code",
      "execution_count": null,
      "metadata": {
        "colab": {
          "base_uri": "https://localhost:8080/"
        },
        "id": "b9pn5n0F0aRy",
        "outputId": "28b08057-c452-4ece-d620-4e6ef99702d9"
      },
      "outputs": [
        {
          "output_type": "stream",
          "name": "stdout",
          "text": [
            "4.5\n"
          ]
        }
      ],
      "source": [
        "# Varibales numericas\n",
        "\"\"\" Con 6 comillas dobles\n",
        "podemos hacer comentarios de varias lineas\"\"\" \n",
        "a = 1\n",
        "b = 4\n",
        "d = 4.5\n",
        "print(d)"
      ]
    },
    {
      "cell_type": "code",
      "source": [
        "# Variables de texto\n",
        "c = 'Cristian'\n",
        "print(c)"
      ],
      "metadata": {
        "colab": {
          "base_uri": "https://localhost:8080/"
        },
        "id": "t8u0pTjY6Z95",
        "outputId": "244e6e53-d8b1-4a3a-c9dc-7f9c63282f4a"
      },
      "execution_count": null,
      "outputs": [
        {
          "output_type": "stream",
          "name": "stdout",
          "text": [
            "Cristian\n"
          ]
        }
      ]
    },
    {
      "cell_type": "code",
      "source": [
        "# Variables Boolean\n",
        "t = True\n",
        "f = False\n",
        "print(t, f)"
      ],
      "metadata": {
        "colab": {
          "base_uri": "https://localhost:8080/"
        },
        "id": "5ZIz4VOb6x5R",
        "outputId": "96e71c47-c1b9-43f9-fdcb-467d82d5ae8b"
      },
      "execution_count": null,
      "outputs": [
        {
          "output_type": "stream",
          "name": "stdout",
          "text": [
            "True False\n"
          ]
        }
      ]
    },
    {
      "cell_type": "code",
      "source": [
        "# Operaciones\n",
        "suma = a + b\n",
        "multiplicacion = b * suma\n",
        "division = suma / multiplicacion\n",
        "resta = suma - division\n",
        "\n",
        "print(suma, multiplicacion, division, resta)\n"
      ],
      "metadata": {
        "colab": {
          "base_uri": "https://localhost:8080/"
        },
        "id": "QiZonqkK82a5",
        "outputId": "2facbc01-3d15-440d-c20c-bd89f325a40e"
      },
      "execution_count": null,
      "outputs": [
        {
          "output_type": "stream",
          "name": "stdout",
          "text": [
            "5 20 0.25 4.75\n"
          ]
        }
      ]
    },
    {
      "cell_type": "code",
      "source": [
        "#Concatenar texto\n",
        "fisrt_name = 'Cristian'\n",
        "last_name = 'Prieto'\n",
        "full_name = fisrt_name + ' ' + last_name\n",
        "print(full_name)"
      ],
      "metadata": {
        "colab": {
          "base_uri": "https://localhost:8080/"
        },
        "id": "mo4L7ISp-aOX",
        "outputId": "c3533675-232c-4841-9247-ea28291ea5bf"
      },
      "execution_count": null,
      "outputs": [
        {
          "output_type": "stream",
          "name": "stdout",
          "text": [
            "Cristian Prieto\n"
          ]
        }
      ]
    },
    {
      "cell_type": "code",
      "source": [
        "# Concatenar numeros con texto\n",
        "print('La suma es ' + str(suma) + ' La multiplicación es ' +  str(multiplicacion) + ' La divición es ' +  str(division) + ' la resta es ' + str(resta))"
      ],
      "metadata": {
        "colab": {
          "base_uri": "https://localhost:8080/"
        },
        "id": "-1yGbQfo_Oao",
        "outputId": "91d3bac3-2c6c-4e23-a62d-d3ff7be3f0b4"
      },
      "execution_count": null,
      "outputs": [
        {
          "output_type": "stream",
          "name": "stdout",
          "text": [
            "La suma es 5 La multiplicación es 20 La divición es 0.25 la resta es 4.75\n"
          ]
        }
      ]
    },
    {
      "cell_type": "code",
      "source": [
        "#Convertir texto a numero\n",
        "x = 8\n",
        "y = '7'\n",
        "w = '4.6'\n",
        "z = x + int(y)\n",
        "numero = x + float(w)\n",
        "print(numero)"
      ],
      "metadata": {
        "colab": {
          "base_uri": "https://localhost:8080/"
        },
        "id": "2hDjb86BAlEy",
        "outputId": "b6c6b845-9185-495f-c486-b58ebb1cdec8"
      },
      "execution_count": null,
      "outputs": [
        {
          "output_type": "stream",
          "name": "stdout",
          "text": [
            "12.6\n"
          ]
        }
      ]
    },
    {
      "cell_type": "code",
      "source": [
        "#if"
      ],
      "metadata": {
        "id": "JMCsZgO8Mz0A"
      },
      "execution_count": null,
      "outputs": []
    }
  ]
}