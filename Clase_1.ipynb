{
  "nbformat": 4,
  "nbformat_minor": 0,
  "metadata": {
    "colab": {
      "name": "Clase_1.ipynb",
      "provenance": [],
      "authorship_tag": "ABX9TyM5R/MO8svmm/vUrKoLcGCS",
      "include_colab_link": true
    },
    "kernelspec": {
      "name": "python3",
      "display_name": "Python 3"
    },
    "language_info": {
      "name": "python"
    }
  },
  "cells": [
    {
      "cell_type": "markdown",
      "metadata": {
        "id": "view-in-github",
        "colab_type": "text"
      },
      "source": [
        "<a href=\"https://colab.research.google.com/github/EduardoPrieto/ELIA/blob/master/Clase_1.ipynb\" target=\"_parent\"><img src=\"https://colab.research.google.com/assets/colab-badge.svg\" alt=\"Open In Colab\"/></a>"
      ]
    },
    {
      "cell_type": "markdown",
      "source": [
        "# Programación en python"
      ],
      "metadata": {
        "id": "QVfEN54Q2CiK"
      }
    },
    {
      "cell_type": "markdown",
      "source": [
        "## Variables y operaciones\n"
      ],
      "metadata": {
        "id": "GdY-xaK94M5i"
      }
    },
    {
      "cell_type": "code",
      "execution_count": null,
      "metadata": {
        "colab": {
          "base_uri": "https://localhost:8080/"
        },
        "id": "b9pn5n0F0aRy",
        "outputId": "28b08057-c452-4ece-d620-4e6ef99702d9"
      },
      "outputs": [
        {
          "output_type": "stream",
          "name": "stdout",
          "text": [
            "4.5\n"
          ]
        }
      ],
      "source": [
        "# Varibales numericas\n",
        "\"\"\" Con 6 comillas dobles\n",
        "podemos hacer comentarios de varias lineas\"\"\" \n",
        "a = 1\n",
        "b = 4\n",
        "d = 4.5\n",
        "print(d)"
      ]
    },
    {
      "cell_type": "code",
      "source": [
        "# Variables de texto\n",
        "c = 'Cristian'\n",
        "print(c)"
      ],
      "metadata": {
        "colab": {
          "base_uri": "https://localhost:8080/"
        },
        "id": "t8u0pTjY6Z95",
        "outputId": "244e6e53-d8b1-4a3a-c9dc-7f9c63282f4a"
      },
      "execution_count": null,
      "outputs": [
        {
          "output_type": "stream",
          "name": "stdout",
          "text": [
            "Cristian\n"
          ]
        }
      ]
    },
    {
      "cell_type": "code",
      "source": [
        "# Variables Boolean\n",
        "t = True\n",
        "f = False\n",
        "print(t, f)"
      ],
      "metadata": {
        "colab": {
          "base_uri": "https://localhost:8080/"
        },
        "id": "5ZIz4VOb6x5R",
        "outputId": "96e71c47-c1b9-43f9-fdcb-467d82d5ae8b"
      },
      "execution_count": null,
      "outputs": [
        {
          "output_type": "stream",
          "name": "stdout",
          "text": [
            "True False\n"
          ]
        }
      ]
    },
    {
      "cell_type": "code",
      "source": [
        "# Operaciones\n",
        "suma = a + b\n",
        "multiplicacion = b * suma\n",
        "division = suma / multiplicacion\n",
        "resta = suma - division\n",
        "\n",
        "print(suma, multiplicacion, division, resta)\n"
      ],
      "metadata": {
        "colab": {
          "base_uri": "https://localhost:8080/"
        },
        "id": "QiZonqkK82a5",
        "outputId": "2facbc01-3d15-440d-c20c-bd89f325a40e"
      },
      "execution_count": null,
      "outputs": [
        {
          "output_type": "stream",
          "name": "stdout",
          "text": [
            "5 20 0.25 4.75\n"
          ]
        }
      ]
    },
    {
      "cell_type": "code",
      "source": [
        "#Concatenar texto\n",
        "fisrt_name = 'Cristian'\n",
        "last_name = 'Prieto'\n",
        "full_name = fisrt_name + ' ' + last_name\n",
        "print(full_name)"
      ],
      "metadata": {
        "colab": {
          "base_uri": "https://localhost:8080/"
        },
        "id": "mo4L7ISp-aOX",
        "outputId": "c3533675-232c-4841-9247-ea28291ea5bf"
      },
      "execution_count": null,
      "outputs": [
        {
          "output_type": "stream",
          "name": "stdout",
          "text": [
            "Cristian Prieto\n"
          ]
        }
      ]
    },
    {
      "cell_type": "code",
      "source": [
        "# Concatenar numeros con texto\n",
        "print('La suma es ' + str(suma) + ' La multiplicación es ' +  str(multiplicacion) + ' La divición es ' +  str(division) + ' la resta es ' + str(resta))"
      ],
      "metadata": {
        "colab": {
          "base_uri": "https://localhost:8080/"
        },
        "id": "-1yGbQfo_Oao",
        "outputId": "91d3bac3-2c6c-4e23-a62d-d3ff7be3f0b4"
      },
      "execution_count": null,
      "outputs": [
        {
          "output_type": "stream",
          "name": "stdout",
          "text": [
            "La suma es 5 La multiplicación es 20 La divición es 0.25 la resta es 4.75\n"
          ]
        }
      ]
    },
    {
      "cell_type": "code",
      "source": [
        "#Convertir texto a numero\n",
        "x = 8\n",
        "y = '7'\n",
        "w = '4.6'\n",
        "z = x + int(y)\n",
        "numero = x + float(w)\n",
        "print(numero)"
      ],
      "metadata": {
        "colab": {
          "base_uri": "https://localhost:8080/"
        },
        "id": "2hDjb86BAlEy",
        "outputId": "b6c6b845-9185-495f-c486-b58ebb1cdec8"
      },
      "execution_count": null,
      "outputs": [
        {
          "output_type": "stream",
          "name": "stdout",
          "text": [
            "12.6\n"
          ]
        }
      ]
    },
    {
      "cell_type": "markdown",
      "source": [
        "## Condicionales"
      ],
      "metadata": {
        "id": "nF2AZDdM854c"
      }
    },
    {
      "cell_type": "code",
      "source": [
        "# <, =<, >, =>, ==, !=, and, or\n",
        "#if\n",
        "if True:\n",
        "  print('sucedio')"
      ],
      "metadata": {
        "colab": {
          "base_uri": "https://localhost:8080/"
        },
        "id": "Urplimvz9AmS",
        "outputId": "59862339-b868-4831-8221-522398710eb9"
      },
      "execution_count": null,
      "outputs": [
        {
          "output_type": "stream",
          "name": "stdout",
          "text": [
            "sucedio\n"
          ]
        }
      ]
    },
    {
      "cell_type": "code",
      "source": [
        "if False:\n",
        "  print('sucedio')\n",
        "else:\n",
        "  print('no sucedio')"
      ],
      "metadata": {
        "colab": {
          "base_uri": "https://localhost:8080/"
        },
        "id": "0i9KM4lz-LVa",
        "outputId": "10a9b60b-7578-4799-9487-f3354afed139"
      },
      "execution_count": null,
      "outputs": [
        {
          "output_type": "stream",
          "name": "stdout",
          "text": [
            "no sucedio\n"
          ]
        }
      ]
    },
    {
      "cell_type": "code",
      "source": [
        "#menor <\n",
        "menor = 10\n",
        "mayor = 8\n",
        "if menor < mayor:\n",
        "  numero = menor + mayor\n",
        "else:\n",
        "  numero = mayor - menor\n",
        "\n",
        "print(numero)"
      ],
      "metadata": {
        "colab": {
          "base_uri": "https://localhost:8080/"
        },
        "id": "liY8VFkW_IvB",
        "outputId": "dbeade77-5447-4a81-fff7-073b96b7e502"
      },
      "execution_count": null,
      "outputs": [
        {
          "output_type": "stream",
          "name": "stdout",
          "text": [
            "-2\n"
          ]
        }
      ]
    },
    {
      "cell_type": "code",
      "source": [
        "#menor o igual <=, mayor o igual >= \n",
        "andrea = 18\n",
        "if andrea<18:\n",
        "  print('Andrea no va a la fiesta')\n",
        "elif andrea>=18:\n",
        "  print('Andrea va a la fiesta')"
      ],
      "metadata": {
        "colab": {
          "base_uri": "https://localhost:8080/"
        },
        "id": "JF1Swa0lAYjX",
        "outputId": "1ede8c10-100b-4aff-91a6-fcb80fd0120c"
      },
      "execution_count": null,
      "outputs": [
        {
          "output_type": "stream",
          "name": "stdout",
          "text": [
            "Andrea va a la fiesta\n"
          ]
        }
      ]
    },
    {
      "cell_type": "code",
      "source": [
        "import random\n",
        "r1 = random.randint(0,15)\n",
        "if r1 < 5:\n",
        "  print('el numero % s es menor que 5' % (r1))\n",
        "elif r1 > 5:\n",
        "  print('el numero % s es mayor que 5' % (r1))\n",
        "elif r1 == 5:\n",
        "  print('el numero % s es igual 5' % (r1))\n"
      ],
      "metadata": {
        "colab": {
          "base_uri": "https://localhost:8080/"
        },
        "id": "avEErjv1Bl1G",
        "outputId": "3fad0308-f6c7-45ec-ef26-3098b6d9aa1d"
      },
      "execution_count": 1,
      "outputs": [
        {
          "output_type": "stream",
          "name": "stdout",
          "text": [
            "el numero 2 es menor que 5\n"
          ]
        }
      ]
    },
    {
      "cell_type": "code",
      "source": [
        "# and se usa cuando se deben cumplir 1 o mas condiciones, en otros lenguajes &&\n",
        "r1 = random.randint(0,100)\n",
        "if r1 > 20 and r1 < 50:\n",
        "  print('cumpliste la condición muchacho')\n",
        "else:\n",
        "  print('F en el chat')"
      ],
      "metadata": {
        "colab": {
          "base_uri": "https://localhost:8080/"
        },
        "id": "9juSC7bMG4WF",
        "outputId": "e1b9d81e-cc2a-4052-d019-b6d9e191c8eb"
      },
      "execution_count": 5,
      "outputs": [
        {
          "output_type": "stream",
          "name": "stdout",
          "text": [
            "F en el chat\n"
          ]
        }
      ]
    },
    {
      "cell_type": "code",
      "source": [
        "# or se usa cuando se debe ejecutar un codigo despues de cumplirse 1 o mas condiciones en otros lenguajes ||\n",
        "r1 = random.randint(0,100)\n",
        "if r1 < 20 or r1 > 50:\n",
        "  print('buena esa compadre, que bonitos ojos tiene')\n",
        "else:\n",
        "  print('Nein')"
      ],
      "metadata": {
        "colab": {
          "base_uri": "https://localhost:8080/"
        },
        "id": "UDgyuEfwIPUp",
        "outputId": "c2fa46fe-6b5d-4b44-a663-04999a70a32e"
      },
      "execution_count": 6,
      "outputs": [
        {
          "output_type": "stream",
          "name": "stdout",
          "text": [
            "buena esa compadre, que bonitos ojos tiene\n"
          ]
        }
      ]
    },
    {
      "cell_type": "code",
      "source": [
        "# and y or juntos\n",
        "r1 = random.randint(0,100)\n",
        "print(r1)\n",
        "if (r1 >= 10 and r1 <= 20) or (r1 >= 60 and r1 <= 80):\n",
        "  print('Mensaje generico')\n",
        "else:\n",
        "  print('mensaje generico de error')\n",
        "print(r1)"
      ],
      "metadata": {
        "colab": {
          "base_uri": "https://localhost:8080/"
        },
        "id": "d2Mn7sPEKZ6j",
        "outputId": "9648da92-59f1-4ce3-d4b2-2697317ac1a0"
      },
      "execution_count": 28,
      "outputs": [
        {
          "output_type": "stream",
          "name": "stdout",
          "text": [
            "96\n",
            "mensaje generico de error\n",
            "96\n"
          ]
        }
      ]
    },
    {
      "cell_type": "markdown",
      "source": [
        "## Tablas de verdad\n",
        "![DuInMcdWkAccTeC.jpg](data:image/jpeg;base64,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)"
      ],
      "metadata": {
        "id": "Is1cjN7EMr6B"
      }
    },
    {
      "cell_type": "markdown",
      "source": [
        "## Ciclos"
      ],
      "metadata": {
        "id": "H5lnMeYBOJxD"
      }
    },
    {
      "cell_type": "markdown",
      "source": [
        "### While\n",
        "while es una estructura ciclica, que mientras se cumpla una condición ejecutara un bloque de codigo tantas veces como la condición deje de cumplirse o se se rompa el ciclo con la orden  **break** "
      ],
      "metadata": {
        "id": "vlTchBI4JUvx"
      }
    },
    {
      "cell_type": "code",
      "source": [
        "\n",
        "i = 0\n",
        "while(True):\n",
        "  i+= 1\n",
        "  r1 = random.randint(0,15)\n",
        "  print(r1)\n",
        "  if r1 == 5:\n",
        "    print('el numero % s es igual 5' % (r1))\n",
        "    print(str(i) + ' Intentos')\n",
        "    break"
      ],
      "metadata": {
        "id": "3JE7TdJQG7EL"
      },
      "execution_count": null,
      "outputs": []
    },
    {
      "cell_type": "code",
      "source": [
        "i = 10\n",
        "while(i>0): \n",
        "  print('mensaje de while numero #' + str(i))\n",
        "  i-=10"
      ],
      "metadata": {
        "colab": {
          "base_uri": "https://localhost:8080/"
        },
        "id": "w6KddUK_OhF2",
        "outputId": "58b3ee41-3ebf-4793-855a-eed4ec089f92"
      },
      "execution_count": 4,
      "outputs": [
        {
          "output_type": "stream",
          "name": "stdout",
          "text": [
            "mensaje de while numero #10\n"
          ]
        }
      ]
    },
    {
      "cell_type": "code",
      "source": [
        "import random\n",
        "v = True\n",
        "i = 0\n",
        "while(v):\n",
        "  i+= 1\n",
        "  r1 = random.randint(0,10)  \n",
        "  if(r1 == 7):\n",
        "    print('intento ' + str(i) +' ya tenemos el 7 de la suerte')\n",
        "    v = False\n",
        "  else:\n",
        "    print('intento ' + str(i) + ' no yet fue un ' + str(r1))\n"
      ],
      "metadata": {
        "colab": {
          "base_uri": "https://localhost:8080/"
        },
        "id": "KWTMN0w6Q-EK",
        "outputId": "42d54609-1f44-4ebe-d062-96c576ce9d71"
      },
      "execution_count": 8,
      "outputs": [
        {
          "output_type": "stream",
          "name": "stdout",
          "text": [
            "intento 1 no yet fue un 2\n",
            "intento 2 no yet fue un 10\n",
            "intento 3 no yet fue un 5\n",
            "intento 4 no yet fue un 6\n",
            "intento 5 no yet fue un 4\n",
            "intento 6 no yet fue un 3\n",
            "intento 7 ya tenemos el 7 de la suerte\n"
          ]
        }
      ]
    }
  ]
}